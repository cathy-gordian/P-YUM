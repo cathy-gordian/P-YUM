{
 "cells": [
  {
   "cell_type": "code",
   "execution_count": 1,
   "metadata": {},
   "outputs": [],
   "source": [
    "import pandas as pd\n",
    "import datetime\n",
    "import spacy\n",
    "from quantulum3 import parser\n",
    "sp = spacy.load('en_core_web_sm')\n",
    "import nltk"
   ]
  },
  {
   "cell_type": "code",
   "execution_count": 2,
   "metadata": {},
   "outputs": [
    {
     "data": {
      "text/html": [
       "<div>\n",
       "<style scoped>\n",
       "    .dataframe tbody tr th:only-of-type {\n",
       "        vertical-align: middle;\n",
       "    }\n",
       "\n",
       "    .dataframe tbody tr th {\n",
       "        vertical-align: top;\n",
       "    }\n",
       "\n",
       "    .dataframe thead th {\n",
       "        text-align: right;\n",
       "    }\n",
       "</style>\n",
       "<table border=\"1\" class=\"dataframe\">\n",
       "  <thead>\n",
       "    <tr style=\"text-align: right;\">\n",
       "      <th></th>\n",
       "      <th>Unnamed: 0</th>\n",
       "      <th>Unnamed: 0.1</th>\n",
       "      <th>Video Name</th>\n",
       "      <th>Thumbnail URL</th>\n",
       "      <th>Video ID</th>\n",
       "      <th>length</th>\n",
       "      <th>description snippet</th>\n",
       "      <th>date published</th>\n",
       "      <th>transcript</th>\n",
       "    </tr>\n",
       "  </thead>\n",
       "  <tbody>\n",
       "    <tr>\n",
       "      <th>0</th>\n",
       "      <td>0</td>\n",
       "      <td>0</td>\n",
       "      <td>I Opened A FREE Food Stand</td>\n",
       "      <td>https://i.ytimg.com/vi/-hvkUoXaSqY/hqdefault.j...</td>\n",
       "      <td>-hvkUoXaSqY</td>\n",
       "      <td>4 minutes, 42 seconds</td>\n",
       "      <td>Watch till the end to see the 7 million subscr...</td>\n",
       "      <td>2022-11-30 21:59:44.385768</td>\n",
       "      <td>this is the Southern Smoke Festival over 60 o...</td>\n",
       "    </tr>\n",
       "    <tr>\n",
       "      <th>1</th>\n",
       "      <td>1</td>\n",
       "      <td>1</td>\n",
       "      <td>Making McDonald’s Happy Meal At Home | But Better</td>\n",
       "      <td>https://i.ytimg.com/vi/_DGgTPeP5ys/hqdefault.j...</td>\n",
       "      <td>_DGgTPeP5ys</td>\n",
       "      <td>12 minutes, 8 seconds</td>\n",
       "      <td>Sorry kids, we have McDonald’s at home.\\n\\nGet...</td>\n",
       "      <td>2022-11-27 21:59:44.385768</td>\n",
       "      <td>I've spent tens of thousands of hours cooking...</td>\n",
       "    </tr>\n",
       "    <tr>\n",
       "      <th>2</th>\n",
       "      <td>2</td>\n",
       "      <td>2</td>\n",
       "      <td>My Ideal Thanksgiving Dinner</td>\n",
       "      <td>https://i.ytimg.com/vi/Ke_MbvmDP0g/hqdefault.j...</td>\n",
       "      <td>Ke_MbvmDP0g</td>\n",
       "      <td>18 minutes, 27 seconds</td>\n",
       "      <td>This is my ideal thanksgiving because you’ve a...</td>\n",
       "      <td>2022-12-03 21:59:44.385768</td>\n",
       "      <td>every single time we've done Thanksgiving gui...</td>\n",
       "    </tr>\n",
       "    <tr>\n",
       "      <th>3</th>\n",
       "      <td>3</td>\n",
       "      <td>3</td>\n",
       "      <td>$5 Sushi Meal | But Cheaper</td>\n",
       "      <td>https://i.ytimg.com/vi/c-GePPbJrBk/hqdefault.j...</td>\n",
       "      <td>c-GePPbJrBk</td>\n",
       "      <td>10 minutes, 14 seconds</td>\n",
       "      <td>Most sushi boats are expensive...well what hap...</td>\n",
       "      <td>2022-12-03 21:59:44.385768</td>\n",
       "      <td>is this boat gonna float yeah no absolutely n...</td>\n",
       "    </tr>\n",
       "    <tr>\n",
       "      <th>4</th>\n",
       "      <td>4</td>\n",
       "      <td>4</td>\n",
       "      <td>Making Crumbl Cookies At Home | But Better</td>\n",
       "      <td>https://i.ytimg.com/vi/gLnuIplW7cA/hqdefault.j...</td>\n",
       "      <td>gLnuIplW7cA</td>\n",
       "      <td>11 minutes, 30 seconds</td>\n",
       "      <td>In my humble opinion, homemade cookies straigh...</td>\n",
       "      <td>2022-12-02 21:59:44.385768</td>\n",
       "      <td>you may have heard of crumble cookies they're...</td>\n",
       "    </tr>\n",
       "  </tbody>\n",
       "</table>\n",
       "</div>"
      ],
      "text/plain": [
       "   Unnamed: 0  Unnamed: 0.1  \\\n",
       "0           0             0   \n",
       "1           1             1   \n",
       "2           2             2   \n",
       "3           3             3   \n",
       "4           4             4   \n",
       "\n",
       "                                          Video Name  \\\n",
       "0                         I Opened A FREE Food Stand   \n",
       "1  Making McDonald’s Happy Meal At Home | But Better   \n",
       "2                       My Ideal Thanksgiving Dinner   \n",
       "3                        $5 Sushi Meal | But Cheaper   \n",
       "4         Making Crumbl Cookies At Home | But Better   \n",
       "\n",
       "                                       Thumbnail URL     Video ID  \\\n",
       "0  https://i.ytimg.com/vi/-hvkUoXaSqY/hqdefault.j...  -hvkUoXaSqY   \n",
       "1  https://i.ytimg.com/vi/_DGgTPeP5ys/hqdefault.j...  _DGgTPeP5ys   \n",
       "2  https://i.ytimg.com/vi/Ke_MbvmDP0g/hqdefault.j...  Ke_MbvmDP0g   \n",
       "3  https://i.ytimg.com/vi/c-GePPbJrBk/hqdefault.j...  c-GePPbJrBk   \n",
       "4  https://i.ytimg.com/vi/gLnuIplW7cA/hqdefault.j...  gLnuIplW7cA   \n",
       "\n",
       "                   length                                description snippet  \\\n",
       "0   4 minutes, 42 seconds  Watch till the end to see the 7 million subscr...   \n",
       "1   12 minutes, 8 seconds  Sorry kids, we have McDonald’s at home.\\n\\nGet...   \n",
       "2  18 minutes, 27 seconds  This is my ideal thanksgiving because you’ve a...   \n",
       "3  10 minutes, 14 seconds  Most sushi boats are expensive...well what hap...   \n",
       "4  11 minutes, 30 seconds  In my humble opinion, homemade cookies straigh...   \n",
       "\n",
       "               date published  \\\n",
       "0  2022-11-30 21:59:44.385768   \n",
       "1  2022-11-27 21:59:44.385768   \n",
       "2  2022-12-03 21:59:44.385768   \n",
       "3  2022-12-03 21:59:44.385768   \n",
       "4  2022-12-02 21:59:44.385768   \n",
       "\n",
       "                                          transcript  \n",
       "0   this is the Southern Smoke Festival over 60 o...  \n",
       "1   I've spent tens of thousands of hours cooking...  \n",
       "2   every single time we've done Thanksgiving gui...  \n",
       "3   is this boat gonna float yeah no absolutely n...  \n",
       "4   you may have heard of crumble cookies they're...  "
      ]
     },
     "execution_count": 2,
     "metadata": {},
     "output_type": "execute_result"
    }
   ],
   "source": [
    "rag_df = pd.read_csv(\"raw\\JoshuaWeissmanVideos.csv\")\n",
    "rag_df.head()"
   ]
  },
  {
   "cell_type": "code",
   "execution_count": 3,
   "metadata": {},
   "outputs": [],
   "source": [
    "foodunits = [\"teaspoon\",\n",
    "             \"tablespoon\",\n",
    "             \"fluid ounce\",\n",
    "             \"gill\",\n",
    "             \"cup\",\n",
    "             \"pint\",\n",
    "             \"quart\",\n",
    "             \"gallon\",\n",
    "             \"milliliter\",\n",
    "             \"liter\",\n",
    "             \"milligram\",\n",
    "             \"gram\",\n",
    "             \"kilogram\",\n",
    "             \"pound\",\n",
    "             \"ounce\",\n",
    "             \"celcius\",\n",
    "             \"farenheit\",\n",
    "             \"inches\",\n",
    "             \"centimeter\",\n",
    "             \"meter\",\n",
    "             \"feet\",\n",
    "             \"millimeter\",\n",
    "             \"cans\",\n",
    "             \"bowl\",\n",
    "             \"sprinkle\",\n",
    "             \"pot\",\n",
    "             \"minutes\",\n",
    "             \"seconds\"]"
   ]
  },
  {
   "cell_type": "code",
   "execution_count": 4,
   "metadata": {},
   "outputs": [],
   "source": [
    "def check_food_unit(text):\n",
    "    counter = 0\n",
    "    try:\n",
    "        text_arr = text.split(' ')\n",
    "        for word in text_arr:\n",
    "            if word in foodunits:\n",
    "                counter+=1\n",
    "            if counter > 5:\n",
    "                return True\n",
    "    except:\n",
    "        return False\n",
    "    return False"
   ]
  },
  {
   "cell_type": "code",
   "execution_count": 5,
   "metadata": {},
   "outputs": [],
   "source": [
    "rag_df = rag_df[rag_df['transcript'].apply(check_food_unit)]"
   ]
  },
  {
   "cell_type": "code",
   "execution_count": 7,
   "metadata": {},
   "outputs": [
    {
     "name": "stdout",
     "output_type": "stream",
     "text": [
      "<class 'pandas.core.frame.DataFrame'>\n",
      "Int64Index: 284 entries, 1 to 299\n",
      "Data columns (total 9 columns):\n",
      " #   Column               Non-Null Count  Dtype \n",
      "---  ------               --------------  ----- \n",
      " 0   Unnamed: 0           284 non-null    int64 \n",
      " 1   Unnamed: 0.1         284 non-null    int64 \n",
      " 2   Video Name           284 non-null    object\n",
      " 3   Thumbnail URL        284 non-null    object\n",
      " 4   Video ID             284 non-null    object\n",
      " 5   length               284 non-null    object\n",
      " 6   description snippet  284 non-null    object\n",
      " 7   date published       284 non-null    object\n",
      " 8   transcript           284 non-null    object\n",
      "dtypes: int64(2), object(7)\n",
      "memory usage: 22.2+ KB\n"
     ]
    }
   ],
   "source": [
    "rag_df.info()"
   ]
  },
  {
   "cell_type": "code",
   "execution_count": 8,
   "metadata": {},
   "outputs": [],
   "source": [
    "rag_df.to_csv(\"clean//JoshuaWeissmanVideosCleaned.csv\", index = False)"
   ]
  },
  {
   "cell_type": "code",
   "execution_count": null,
   "metadata": {},
   "outputs": [],
   "source": []
  }
 ],
 "metadata": {
  "kernelspec": {
   "display_name": "Python 3.8.10 64-bit",
   "language": "python",
   "name": "python3"
  },
  "language_info": {
   "codemirror_mode": {
    "name": "ipython",
    "version": 3
   },
   "file_extension": ".py",
   "mimetype": "text/x-python",
   "name": "python",
   "nbconvert_exporter": "python",
   "pygments_lexer": "ipython3",
   "version": "3.8.10"
  },
  "orig_nbformat": 4,
  "vscode": {
   "interpreter": {
    "hash": "8c9d00ddaa79aa68c3a541f4a79b3085c4c0d74dc6caab7ebd7301921f5b4803"
   }
  }
 },
 "nbformat": 4,
 "nbformat_minor": 2
}
