{
 "cells": [
  {
   "cell_type": "markdown",
   "metadata": {},
   "source": [
    "# Face Detector (work in progress)\n",
    "### Testing face detector using \"face_angles.jpg\""
   ]
  },
  {
   "cell_type": "code",
   "execution_count": 22,
   "metadata": {},
   "outputs": [
    {
     "data": {
      "text/plain": [
       "'c:\\\\Users\\\\brian\\\\Desktop\\\\PYUM\\\\P-YUM\\\\face_angles.jpg'"
      ]
     },
     "execution_count": 22,
     "metadata": {},
     "output_type": "execute_result"
    }
   ],
   "source": [
    "# getting image path\n",
    "# try with flowers.jpg as well (doesn't have any faces)\n",
    "current = %pwd\n",
    "from pathlib import Path\n",
    "path = Path(current)\n",
    "imagePath = str(path.parent.absolute())\n",
    "image_name = \"face_angles.jpg\"\n",
    "imagePath += '\\\\' + image_name\n",
    "imagePath"
   ]
  },
  {
   "cell_type": "code",
   "execution_count": 23,
   "metadata": {},
   "outputs": [],
   "source": [
    "cascPath = \"haarcascade_frontalface_default.xml\"\n",
    "cascPath_m = \"haarcascade_mouth.xml\"\n",
    "cascPath_e = \"haarcascade_eye.xml\""
   ]
  },
  {
   "cell_type": "code",
   "execution_count": 24,
   "metadata": {},
   "outputs": [],
   "source": [
    "import cv2"
   ]
  },
  {
   "cell_type": "code",
   "execution_count": 37,
   "metadata": {},
   "outputs": [],
   "source": [
    "# Create the haar cascade\n",
    "faceCascade = cv2.CascadeClassifier(cascPath)\n",
    "mouthCascade = cv2.CascadeClassifier(cascPath_m)\n",
    "eyeCascade = cv2.CascadeClassifier(cascPath_e)\n",
    "\n",
    "# Read the image\n",
    "image = cv2.imread(imagePath)\n",
    "gray = cv2.cvtColor(image, cv2.COLOR_BGR2GRAY)\n",
    "\n",
    "# Detect faces in the image\n",
    "faces = faceCascade.detectMultiScale(\n",
    "    gray,\n",
    "    scaleFactor=1.1,\n",
    "    minNeighbors=5,\n",
    "    minSize=(30, 30),\n",
    "    flags = cv2.CASCADE_SCALE_IMAGE\n",
    ")\n",
    "\n",
    "mouth = mouthCascade.detectMultiScale(\n",
    "    gray,\n",
    "    scaleFactor=1.1,\n",
    "    minNeighbors=5,\n",
    "    minSize=(30, 30),\n",
    "    flags = cv2.CASCADE_SCALE_IMAGE\n",
    ")\n",
    "\n",
    "eyes = eyeCascade.detectMultiScale(\n",
    "    gray,\n",
    "    scaleFactor=1.1,\n",
    "    minNeighbors=5,\n",
    "    minSize=(30, 30),\n",
    "    flags = cv2.CASCADE_SCALE_IMAGE\n",
    ")"
   ]
  },
  {
   "cell_type": "code",
   "execution_count": 38,
   "metadata": {},
   "outputs": [
    {
     "name": "stdout",
     "output_type": "stream",
     "text": [
      "Found 9 faces!\n",
      "Found 29 mouths!\n",
      "Found 7 eyes!\n"
     ]
    }
   ],
   "source": [
    "print (\"Found {0} faces!\".format(len(faces)))\n",
    "\n",
    "# Draw a rectangle around the faces\n",
    "for (x, y, w, h) in faces:\n",
    "    cv2.rectangle(image, (x, y), (x+w, y+h), (0, 255, 0), 2)\n",
    "\n",
    "print (\"Found {0} mouths!\".format(len(mouths)))\n",
    "\n",
    "# Draw a rectangle around the faces\n",
    "for (x, y, w, h) in mouths:\n",
    "    cv2.rectangle(image, (x, y), (x+w, y+h), (0, 255, 0), 2)\n",
    "\n",
    "print (\"Found {0} eyes!\".format(len(eyes)))\n",
    "\n",
    "# Draw a rectangle around the faces\n",
    "for (x, y, w, h) in eyes:\n",
    "    cv2.rectangle(image, (x, y), (x+w, y+h), (0, 255, 0), 2)"
   ]
  },
  {
   "cell_type": "code",
   "execution_count": 39,
   "metadata": {},
   "outputs": [
    {
     "data": {
      "text/plain": [
       "-1"
      ]
     },
     "execution_count": 39,
     "metadata": {},
     "output_type": "execute_result"
    }
   ],
   "source": [
    "# runs reasonably well\n",
    "# notice how it doesn't really work on faces that are turned 90 degrees.\n",
    "\n",
    "cv2.imshow(\"Features found\", image)\n",
    "cv2.waitKey(0)\n"
   ]
  },
  {
   "cell_type": "markdown",
   "metadata": {},
   "source": [
    "# Face As A Percentage of the Video"
   ]
  },
  {
   "cell_type": "code",
   "execution_count": 15,
   "metadata": {},
   "outputs": [
    {
     "data": {
      "text/plain": [
       "'c:\\\\Users\\\\brian\\\\Desktop\\\\PYUM\\\\P-YUM\\\\American Grilled Cheese Vs. French Grilled Cheese.mp4'"
      ]
     },
     "execution_count": 15,
     "metadata": {},
     "output_type": "execute_result"
    }
   ],
   "source": [
    "# first, get the path of the video in question\n",
    "# getting video path\n",
    "current = %pwd\n",
    "from pathlib import Path\n",
    "path = Path(current)\n",
    "filename = str(path.parent.absolute())\n",
    "video_name = \"American Grilled Cheese Vs. French Grilled Cheese.mp4\"\n",
    "filename += '\\\\' + video_name\n",
    "filename"
   ]
  },
  {
   "cell_type": "code",
   "execution_count": 16,
   "metadata": {},
   "outputs": [],
   "source": [
    "import cv2\n",
    "import numpy as np"
   ]
  },
  {
   "cell_type": "code",
   "execution_count": 17,
   "metadata": {},
   "outputs": [],
   "source": [
    "def face_detector(image):\n",
    "    cascPath = \"haarcascade_frontalface_default.xml\"\n",
    "\n",
    "    # Create the haar cascade\n",
    "    faceCascade = cv2.CascadeClassifier(cascPath)\n",
    "\n",
    "    # Read the image\n",
    "    # image = cv2.imread(image)\n",
    "    gray = cv2.cvtColor(image, cv2.COLOR_BGR2GRAY)\n",
    "\n",
    "    # Detect faces in the image\n",
    "    faces = faceCascade.detectMultiScale(\n",
    "        gray,\n",
    "        scaleFactor=1.3,\n",
    "        minNeighbors=5,\n",
    "        minSize=(30, 30),\n",
    "        flags = cv2.CASCADE_SCALE_IMAGE\n",
    "    )\n",
    "\n",
    "    for (x, y, w, h) in faces:\n",
    "        cv2.rectangle(image, (x, y), (x+w, y+h), (0, 255, 0), 2)\n",
    "\n",
    "    if len(faces) >= 1:\n",
    "        cv2.imshow(\"Faces found\", image)\n",
    "        cv2.waitKey(0)\n",
    "\n",
    "\n",
    "    # if it detects at least one face, return true\n",
    "    # it doesn't have to be the host itself\n",
    "    if len(faces) >= 1:\n",
    "        return True\n",
    "    \n",
    "    return False"
   ]
  },
  {
   "cell_type": "code",
   "execution_count": 18,
   "metadata": {},
   "outputs": [],
   "source": [
    "# input: the video file\n",
    "# output: length of video file in seconds\n",
    "\n",
    "def find_video_length(video):\n",
    "\n",
    "    fps = video.get(cv2.CAP_PROP_FPS)\n",
    "    frame_count = video.get(cv2.CAP_PROP_FRAME_COUNT)\n",
    "\n",
    "    return frame_count / fps, fps\n"
   ]
  },
  {
   "cell_type": "code",
   "execution_count": 19,
   "metadata": {},
   "outputs": [],
   "source": [
    "def face_percentage(filename):\n",
    "\n",
    "    # person_counter counts number of frames person was in shot\n",
    "    person_counter = 0\n",
    "    # no_person_counter counts number of frames where person is not in shot\n",
    "    no_person_counter = 0\n",
    "\n",
    "    my_video = cv2.VideoCapture(filename)\n",
    "    if (my_video.isOpened() == False):\n",
    "        print(\"Error opening video stream or file\")\n",
    "\n",
    "    video_length, video_fps = find_video_length(my_video)\n",
    "\n",
    "    nth_frame = video_fps // 2\n",
    "    frame_counter = 0\n",
    "\n",
    "    while (my_video.isOpened()):\n",
    "        \n",
    "        ret, frame = my_video.read()\n",
    "        if frame_counter % nth_frame == 0:\n",
    "\n",
    "            # Capture frame-by-frame\n",
    "            if ret == True:\n",
    "                if face_detector(frame):\n",
    "\n",
    "                    print(frame_counter / video_fps)\n",
    "                    person_counter += 1\n",
    "                else:\n",
    "                    no_person_counter += 1\n",
    "            else:\n",
    "                break\n",
    "\n",
    "        if ret == False:\n",
    "            break\n",
    "\n",
    "        frame_counter += 1\n",
    "\n",
    "    return (person_counter * 100) / (no_person_counter + person_counter)\n",
    "\n",
    "\n"
   ]
  },
  {
   "cell_type": "code",
   "execution_count": 20,
   "metadata": {},
   "outputs": [
    {
     "data": {
      "text/plain": [
       "'c:\\\\Users\\\\brian\\\\Desktop\\\\PYUM\\\\P-YUM\\\\American Grilled Cheese Vs. French Grilled Cheese.mp4'"
      ]
     },
     "execution_count": 20,
     "metadata": {},
     "output_type": "execute_result"
    }
   ],
   "source": [
    "filename"
   ]
  },
  {
   "cell_type": "code",
   "execution_count": 21,
   "metadata": {},
   "outputs": [
    {
     "name": "stdout",
     "output_type": "stream",
     "text": [
      "0.46713333333333334\n",
      "0.9342666666666667\n",
      "1.4014\n",
      "1.8685333333333334\n",
      "2.8028\n",
      "3.2699333333333334\n",
      "3.7370666666666668\n",
      "4.2042\n",
      "4.671333333333333\n",
      "5.138466666666667\n",
      "18.685333333333332\n",
      "19.152466666666665\n",
      "19.619600000000002\n",
      "23.823800000000002\n",
      "24.290933333333335\n",
      "24.758066666666668\n",
      "25.2252\n",
      "25.692333333333334\n",
      "27.093733333333333\n",
      "27.560866666666666\n",
      "28.495133333333335\n",
      "28.962266666666668\n",
      "29.4294\n",
      "29.896533333333334\n",
      "30.8308\n",
      "31.297933333333333\n",
      "31.765066666666666\n",
      "35.035000000000004\n",
      "35.50213333333333\n",
      "35.96926666666667\n",
      "36.4364\n",
      "36.903533333333336\n",
      "37.370666666666665\n",
      "37.8378\n",
      "39.239200000000004\n",
      "39.70633333333333\n",
      "40.17346666666667\n",
      "41.107733333333336\n",
      "41.574866666666665\n",
      "43.443400000000004\n",
      "43.91053333333333\n",
      "44.37766666666667\n"
     ]
    },
    {
     "ename": "KeyboardInterrupt",
     "evalue": "",
     "output_type": "error",
     "traceback": [
      "\u001b[1;31m---------------------------------------------------------------------------\u001b[0m",
      "\u001b[1;31mKeyboardInterrupt\u001b[0m                         Traceback (most recent call last)",
      "\u001b[1;32m~\\AppData\\Local\\Temp/ipykernel_17348/686528282.py\u001b[0m in \u001b[0;36m<module>\u001b[1;34m\u001b[0m\n\u001b[1;32m----> 1\u001b[1;33m \u001b[0mface_percentage\u001b[0m\u001b[1;33m(\u001b[0m\u001b[0mfilename\u001b[0m\u001b[1;33m)\u001b[0m\u001b[1;33m\u001b[0m\u001b[1;33m\u001b[0m\u001b[0m\n\u001b[0m",
      "\u001b[1;32m~\\AppData\\Local\\Temp/ipykernel_17348/905789172.py\u001b[0m in \u001b[0;36mface_percentage\u001b[1;34m(filename)\u001b[0m\n\u001b[0;32m     22\u001b[0m             \u001b[1;31m# Capture frame-by-frame\u001b[0m\u001b[1;33m\u001b[0m\u001b[1;33m\u001b[0m\u001b[0m\n\u001b[0;32m     23\u001b[0m             \u001b[1;32mif\u001b[0m \u001b[0mret\u001b[0m \u001b[1;33m==\u001b[0m \u001b[1;32mTrue\u001b[0m\u001b[1;33m:\u001b[0m\u001b[1;33m\u001b[0m\u001b[1;33m\u001b[0m\u001b[0m\n\u001b[1;32m---> 24\u001b[1;33m                 \u001b[1;32mif\u001b[0m \u001b[0mface_detector\u001b[0m\u001b[1;33m(\u001b[0m\u001b[0mframe\u001b[0m\u001b[1;33m)\u001b[0m\u001b[1;33m:\u001b[0m\u001b[1;33m\u001b[0m\u001b[1;33m\u001b[0m\u001b[0m\n\u001b[0m\u001b[0;32m     25\u001b[0m \u001b[1;33m\u001b[0m\u001b[0m\n\u001b[0;32m     26\u001b[0m                     \u001b[0mprint\u001b[0m\u001b[1;33m(\u001b[0m\u001b[0mframe_counter\u001b[0m \u001b[1;33m/\u001b[0m \u001b[0mvideo_fps\u001b[0m\u001b[1;33m)\u001b[0m\u001b[1;33m\u001b[0m\u001b[1;33m\u001b[0m\u001b[0m\n",
      "\u001b[1;32m~\\AppData\\Local\\Temp/ipykernel_17348/3832722045.py\u001b[0m in \u001b[0;36mface_detector\u001b[1;34m(image)\u001b[0m\n\u001b[0;32m     23\u001b[0m     \u001b[1;32mif\u001b[0m \u001b[0mlen\u001b[0m\u001b[1;33m(\u001b[0m\u001b[0mfaces\u001b[0m\u001b[1;33m)\u001b[0m \u001b[1;33m>=\u001b[0m \u001b[1;36m1\u001b[0m\u001b[1;33m:\u001b[0m\u001b[1;33m\u001b[0m\u001b[1;33m\u001b[0m\u001b[0m\n\u001b[0;32m     24\u001b[0m         \u001b[0mcv2\u001b[0m\u001b[1;33m.\u001b[0m\u001b[0mimshow\u001b[0m\u001b[1;33m(\u001b[0m\u001b[1;34m\"Faces found\"\u001b[0m\u001b[1;33m,\u001b[0m \u001b[0mimage\u001b[0m\u001b[1;33m)\u001b[0m\u001b[1;33m\u001b[0m\u001b[1;33m\u001b[0m\u001b[0m\n\u001b[1;32m---> 25\u001b[1;33m         \u001b[0mcv2\u001b[0m\u001b[1;33m.\u001b[0m\u001b[0mwaitKey\u001b[0m\u001b[1;33m(\u001b[0m\u001b[1;36m0\u001b[0m\u001b[1;33m)\u001b[0m\u001b[1;33m\u001b[0m\u001b[1;33m\u001b[0m\u001b[0m\n\u001b[0m\u001b[0;32m     26\u001b[0m \u001b[1;33m\u001b[0m\u001b[0m\n\u001b[0;32m     27\u001b[0m \u001b[1;33m\u001b[0m\u001b[0m\n",
      "\u001b[1;31mKeyboardInterrupt\u001b[0m: "
     ]
    }
   ],
   "source": [
    "face_percentage(filename)"
   ]
  },
  {
   "cell_type": "code",
   "execution_count": null,
   "metadata": {},
   "outputs": [],
   "source": []
  }
 ],
 "metadata": {
  "kernelspec": {
   "display_name": "Python 3.10.5 64-bit",
   "language": "python",
   "name": "python3"
  },
  "language_info": {
   "codemirror_mode": {
    "name": "ipython",
    "version": 3
   },
   "file_extension": ".py",
   "mimetype": "text/x-python",
   "name": "python",
   "nbconvert_exporter": "python",
   "pygments_lexer": "ipython3",
   "version": "3.10.5"
  },
  "orig_nbformat": 4,
  "vscode": {
   "interpreter": {
    "hash": "51923b56f38a5b3424ee861e1200c08869906ff2215aafed0340f54392de6f99"
   }
  }
 },
 "nbformat": 4,
 "nbformat_minor": 2
}
