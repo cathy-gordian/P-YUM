{
 "cells": [
  {
   "cell_type": "markdown",
   "metadata": {},
   "source": [
    "# Face Detector (work in progress)\n",
    "### Testing face detector using \"face_angles.jpg\""
   ]
  },
  {
   "cell_type": "code",
   "execution_count": 78,
   "metadata": {},
   "outputs": [
    {
     "data": {
      "text/plain": [
       "'c:\\\\Users\\\\brian\\\\Desktop\\\\PYUM\\\\P-YUM\\\\face_angles.jpg'"
      ]
     },
     "execution_count": 78,
     "metadata": {},
     "output_type": "execute_result"
    }
   ],
   "source": [
    "# getting image path\n",
    "# try with flowers.jpg as well (doesn't have any faces)\n",
    "current = %pwd\n",
    "from pathlib import Path\n",
    "path = Path(current)\n",
    "imagePath = str(path.parent.absolute())\n",
    "image_name = \"face_angles.jpg\"\n",
    "imagePath += '\\\\' + image_name\n",
    "imagePath"
   ]
  },
  {
   "cell_type": "code",
   "execution_count": 79,
   "metadata": {},
   "outputs": [],
   "source": [
    "cascPath = \"haarcascade_frontalface_default.xml\""
   ]
  },
  {
   "cell_type": "code",
   "execution_count": 80,
   "metadata": {},
   "outputs": [],
   "source": [
    "import cv2"
   ]
  },
  {
   "cell_type": "code",
   "execution_count": 81,
   "metadata": {},
   "outputs": [],
   "source": [
    "# Create the haar cascade\n",
    "faceCascade = cv2.CascadeClassifier(cascPath)\n",
    "\n",
    "# Read the image\n",
    "image = cv2.imread(imagePath)\n",
    "gray = cv2.cvtColor(image, cv2.COLOR_BGR2GRAY)\n",
    "\n",
    "# Detect faces in the image\n",
    "faces = faceCascade.detectMultiScale(\n",
    "    gray,\n",
    "    scaleFactor=1.1,\n",
    "    minNeighbors=5,\n",
    "    minSize=(30, 30),\n",
    "    flags = cv2.CASCADE_SCALE_IMAGE\n",
    ")"
   ]
  },
  {
   "cell_type": "code",
   "execution_count": 82,
   "metadata": {},
   "outputs": [
    {
     "name": "stdout",
     "output_type": "stream",
     "text": [
      "[[[  0   8   0]\n",
      "  [  0   4   0]\n",
      "  [  0   4   0]\n",
      "  ...\n",
      "  [  0  11   0]\n",
      "  [  0  11   0]\n",
      "  [  0  18   0]]\n",
      "\n",
      " [[209 223 212]\n",
      "  [205 219 208]\n",
      "  [205 219 208]\n",
      "  ...\n",
      "  [ 69  94  66]\n",
      "  [ 61  86  60]\n",
      "  [ 77 102  74]]\n",
      "\n",
      " [[ 43  62  53]\n",
      "  [ 39  58  49]\n",
      "  [ 39  58  49]\n",
      "  ...\n",
      "  [ 65  93  63]\n",
      "  [ 57  85  56]\n",
      "  [ 73 101  71]]\n",
      "\n",
      " ...\n",
      "\n",
      " [[182 181 177]\n",
      "  [155 154 150]\n",
      "  [134 133 129]\n",
      "  ...\n",
      "  [ 69  63  52]\n",
      "  [ 66  60  49]\n",
      "  [ 68  62  51]]\n",
      "\n",
      " [[203 202 198]\n",
      "  [195 194 190]\n",
      "  [203 202 198]\n",
      "  ...\n",
      "  [187 182 173]\n",
      "  [190 185 176]\n",
      "  [196 191 182]]\n",
      "\n",
      " [[  5   4   0]\n",
      "  [  2   1   0]\n",
      "  [  2   1   0]\n",
      "  ...\n",
      "  [  9   4   0]\n",
      "  [  9   4   0]\n",
      "  [ 16  11   2]]]\n"
     ]
    }
   ],
   "source": [
    "print(image)"
   ]
  },
  {
   "cell_type": "code",
   "execution_count": 83,
   "metadata": {},
   "outputs": [
    {
     "name": "stdout",
     "output_type": "stream",
     "text": [
      "Found 9 faces!\n"
     ]
    }
   ],
   "source": [
    "print (\"Found {0} faces!\".format(len(faces)))\n",
    "\n",
    "# Draw a rectangle around the faces\n",
    "for (x, y, w, h) in faces:\n",
    "    cv2.rectangle(image, (x, y), (x+w, y+h), (0, 255, 0), 2)\n"
   ]
  },
  {
   "cell_type": "code",
   "execution_count": 84,
   "metadata": {},
   "outputs": [
    {
     "data": {
      "text/plain": [
       "-1"
      ]
     },
     "execution_count": 84,
     "metadata": {},
     "output_type": "execute_result"
    }
   ],
   "source": [
    "# runs reasonably well\n",
    "# notice how it doesn't really work on faces that are turned 90 degrees.\n",
    "\n",
    "cv2.imshow(\"Faces found\", image)\n",
    "cv2.waitKey(0)\n"
   ]
  },
  {
   "cell_type": "markdown",
   "metadata": {},
   "source": [
    "# Face As A Percentage of the Video"
   ]
  },
  {
   "cell_type": "code",
   "execution_count": 12,
   "metadata": {},
   "outputs": [
    {
     "data": {
      "text/plain": [
       "\"c:\\\\Users\\\\brian\\\\Desktop\\\\PYUM\\\\P-YUM\\\\Binging with Babish_ Patrick's Briefcase from SpongeBob SquarePants.mp4\""
      ]
     },
     "execution_count": 12,
     "metadata": {},
     "output_type": "execute_result"
    }
   ],
   "source": [
    "# first, get the path of the video in question\n",
    "# getting video path\n",
    "current = %pwd\n",
    "from pathlib import Path\n",
    "path = Path(current)\n",
    "filename = str(path.parent.absolute())\n",
    "video_name = \"Binging with Babish_ Patrick's Briefcase from SpongeBob SquarePants.mp4\"\n",
    "filename += '\\\\' + video_name\n",
    "filename"
   ]
  },
  {
   "cell_type": "code",
   "execution_count": 13,
   "metadata": {},
   "outputs": [],
   "source": [
    "import cv2\n",
    "import numpy as np"
   ]
  },
  {
   "cell_type": "code",
   "execution_count": 90,
   "metadata": {},
   "outputs": [],
   "source": [
    "def face_detector(image):\n",
    "    cascPath = \"haarcascade_frontalface_default.xml\"\n",
    "\n",
    "    # Create the haar cascade\n",
    "    faceCascade = cv2.CascadeClassifier(cascPath)\n",
    "\n",
    "    # Read the image\n",
    "    # image = cv2.imread(image)\n",
    "    gray = cv2.cvtColor(image, cv2.COLOR_BGR2GRAY)\n",
    "\n",
    "    # Detect faces in the image\n",
    "    faces = faceCascade.detectMultiScale(\n",
    "        gray,\n",
    "        scaleFactor=1.3,\n",
    "        minNeighbors=5,\n",
    "        minSize=(30, 30),\n",
    "        flags = cv2.CASCADE_SCALE_IMAGE\n",
    "    )\n",
    "\n",
    "    for (x, y, w, h) in faces:\n",
    "        cv2.rectangle(image, (x, y), (x+w, y+h), (0, 255, 0), 2)\n",
    "\n",
    "    if len(faces) >= 1:\n",
    "        cv2.imshow(\"Faces found\", image)\n",
    "        cv2.waitKey(0)\n",
    "\n",
    "\n",
    "    # if it detects at least one face, return true\n",
    "    # it doesn't have to be the host itself\n",
    "    if len(faces) >= 1:\n",
    "        return True\n",
    "    \n",
    "    return False"
   ]
  },
  {
   "cell_type": "code",
   "execution_count": 91,
   "metadata": {},
   "outputs": [],
   "source": [
    "# input: the video file\n",
    "# output: length of video file in seconds\n",
    "\n",
    "def find_video_length(video):\n",
    "\n",
    "    fps = video.get(cv2.CAP_PROP_FPS)\n",
    "    frame_count = video.get(cv2.CAP_PROP_FRAME_COUNT)\n",
    "\n",
    "    return frame_count / fps, fps\n"
   ]
  },
  {
   "cell_type": "code",
   "execution_count": 92,
   "metadata": {},
   "outputs": [],
   "source": [
    "def face_percentage(filename):\n",
    "\n",
    "    # person_counter counts number of frames person was in shot\n",
    "    person_counter = 0\n",
    "    # no_person_counter counts number of frames where person is not in shot\n",
    "    no_person_counter = 0\n",
    "\n",
    "    my_video = cv2.VideoCapture(filename)\n",
    "    if (my_video.isOpened() == False):\n",
    "        print(\"Error opening video stream or file\")\n",
    "\n",
    "    video_length, video_fps = find_video_length(my_video)\n",
    "\n",
    "    nth_frame = video_fps // 2\n",
    "    frame_counter = 0\n",
    "\n",
    "    while (my_video.isOpened()):\n",
    "        \n",
    "        ret, frame = my_video.read()\n",
    "        if frame_counter % nth_frame == 0:\n",
    "\n",
    "            # Capture frame-by-frame\n",
    "            if ret == True:\n",
    "                if face_detector(frame):\n",
    "\n",
    "                    print(frame_counter / video_fps)\n",
    "                    person_counter += 1\n",
    "                else:\n",
    "                    no_person_counter += 1\n",
    "            else:\n",
    "                break\n",
    "\n",
    "        if ret == False:\n",
    "            break\n",
    "\n",
    "        frame_counter += 1\n",
    "\n",
    "    return (person_counter * 100) / (no_person_counter + person_counter)\n",
    "\n",
    "\n"
   ]
  },
  {
   "cell_type": "code",
   "execution_count": 93,
   "metadata": {},
   "outputs": [
    {
     "data": {
      "text/plain": [
       "\"c:\\\\Users\\\\brian\\\\Desktop\\\\PYUM\\\\P-YUM\\\\Binging with Babish_ Patrick's Briefcase from SpongeBob SquarePants.mp4\""
      ]
     },
     "execution_count": 93,
     "metadata": {},
     "output_type": "execute_result"
    }
   ],
   "source": [
    "filename"
   ]
  },
  {
   "cell_type": "code",
   "execution_count": 94,
   "metadata": {},
   "outputs": [
    {
     "name": "stdout",
     "output_type": "stream",
     "text": [
      "8.258249999999999\n",
      "8.717041666666667\n",
      "13.763749999999998\n",
      "14.222541666666666\n",
      "14.681333333333333\n",
      "15.140125\n",
      "40.83245833333333\n",
      "54.59620833333333\n",
      "67.90116666666667\n",
      "83.95887499999999\n",
      "89.92316666666666\n",
      "90.84075\n",
      "96.80504166666665\n",
      "101.39295833333333\n",
      "101.85175\n",
      "106.43966666666665\n",
      "107.81604166666666\n",
      "108.27483333333332\n",
      "108.73362499999999\n",
      "113.78033333333333\n",
      "115.15670833333333\n",
      "117.45066666666666\n",
      "117.90945833333332\n",
      "119.74462499999998\n",
      "128.46166666666664\n",
      "139.93145833333332\n",
      "143.143\n"
     ]
    },
    {
     "ename": "KeyboardInterrupt",
     "evalue": "",
     "output_type": "error",
     "traceback": [
      "\u001b[1;31m---------------------------------------------------------------------------\u001b[0m",
      "\u001b[1;31mKeyboardInterrupt\u001b[0m                         Traceback (most recent call last)",
      "\u001b[1;32m~\\AppData\\Local\\Temp/ipykernel_3428/686528282.py\u001b[0m in \u001b[0;36m<module>\u001b[1;34m\u001b[0m\n\u001b[1;32m----> 1\u001b[1;33m \u001b[0mface_percentage\u001b[0m\u001b[1;33m(\u001b[0m\u001b[0mfilename\u001b[0m\u001b[1;33m)\u001b[0m\u001b[1;33m\u001b[0m\u001b[1;33m\u001b[0m\u001b[0m\n\u001b[0m",
      "\u001b[1;32m~\\AppData\\Local\\Temp/ipykernel_3428/905789172.py\u001b[0m in \u001b[0;36mface_percentage\u001b[1;34m(filename)\u001b[0m\n\u001b[0;32m     22\u001b[0m             \u001b[1;31m# Capture frame-by-frame\u001b[0m\u001b[1;33m\u001b[0m\u001b[1;33m\u001b[0m\u001b[0m\n\u001b[0;32m     23\u001b[0m             \u001b[1;32mif\u001b[0m \u001b[0mret\u001b[0m \u001b[1;33m==\u001b[0m \u001b[1;32mTrue\u001b[0m\u001b[1;33m:\u001b[0m\u001b[1;33m\u001b[0m\u001b[1;33m\u001b[0m\u001b[0m\n\u001b[1;32m---> 24\u001b[1;33m                 \u001b[1;32mif\u001b[0m \u001b[0mface_detector\u001b[0m\u001b[1;33m(\u001b[0m\u001b[0mframe\u001b[0m\u001b[1;33m)\u001b[0m\u001b[1;33m:\u001b[0m\u001b[1;33m\u001b[0m\u001b[1;33m\u001b[0m\u001b[0m\n\u001b[0m\u001b[0;32m     25\u001b[0m \u001b[1;33m\u001b[0m\u001b[0m\n\u001b[0;32m     26\u001b[0m                     \u001b[0mprint\u001b[0m\u001b[1;33m(\u001b[0m\u001b[0mframe_counter\u001b[0m \u001b[1;33m/\u001b[0m \u001b[0mvideo_fps\u001b[0m\u001b[1;33m)\u001b[0m\u001b[1;33m\u001b[0m\u001b[1;33m\u001b[0m\u001b[0m\n",
      "\u001b[1;32m~\\AppData\\Local\\Temp/ipykernel_3428/3832722045.py\u001b[0m in \u001b[0;36mface_detector\u001b[1;34m(image)\u001b[0m\n\u001b[0;32m     23\u001b[0m     \u001b[1;32mif\u001b[0m \u001b[0mlen\u001b[0m\u001b[1;33m(\u001b[0m\u001b[0mfaces\u001b[0m\u001b[1;33m)\u001b[0m \u001b[1;33m>=\u001b[0m \u001b[1;36m1\u001b[0m\u001b[1;33m:\u001b[0m\u001b[1;33m\u001b[0m\u001b[1;33m\u001b[0m\u001b[0m\n\u001b[0;32m     24\u001b[0m         \u001b[0mcv2\u001b[0m\u001b[1;33m.\u001b[0m\u001b[0mimshow\u001b[0m\u001b[1;33m(\u001b[0m\u001b[1;34m\"Faces found\"\u001b[0m\u001b[1;33m,\u001b[0m \u001b[0mimage\u001b[0m\u001b[1;33m)\u001b[0m\u001b[1;33m\u001b[0m\u001b[1;33m\u001b[0m\u001b[0m\n\u001b[1;32m---> 25\u001b[1;33m         \u001b[0mcv2\u001b[0m\u001b[1;33m.\u001b[0m\u001b[0mwaitKey\u001b[0m\u001b[1;33m(\u001b[0m\u001b[1;36m0\u001b[0m\u001b[1;33m)\u001b[0m\u001b[1;33m\u001b[0m\u001b[1;33m\u001b[0m\u001b[0m\n\u001b[0m\u001b[0;32m     26\u001b[0m \u001b[1;33m\u001b[0m\u001b[0m\n\u001b[0;32m     27\u001b[0m \u001b[1;33m\u001b[0m\u001b[0m\n",
      "\u001b[1;31mKeyboardInterrupt\u001b[0m: "
     ]
    }
   ],
   "source": [
    "face_percentage(filename)"
   ]
  },
  {
   "cell_type": "code",
   "execution_count": null,
   "metadata": {},
   "outputs": [],
   "source": []
  }
 ],
 "metadata": {
  "kernelspec": {
   "display_name": "Python 3.10.5 64-bit",
   "language": "python",
   "name": "python3"
  },
  "language_info": {
   "codemirror_mode": {
    "name": "ipython",
    "version": 3
   },
   "file_extension": ".py",
   "mimetype": "text/x-python",
   "name": "python",
   "nbconvert_exporter": "python",
   "pygments_lexer": "ipython3",
   "version": "3.10.5"
  },
  "orig_nbformat": 4,
  "vscode": {
   "interpreter": {
    "hash": "51923b56f38a5b3424ee861e1200c08869906ff2215aafed0340f54392de6f99"
   }
  }
 },
 "nbformat": 4,
 "nbformat_minor": 2
}
