{
 "cells": [
  {
   "cell_type": "markdown",
   "metadata": {},
   "source": [
    "# Face Detector (work in progress)\n",
    "### Testing face detector using \"face_angles.jpg\""
   ]
  },
  {
   "cell_type": "code",
   "execution_count": 1,
   "metadata": {},
   "outputs": [
    {
     "data": {
      "text/plain": [
       "'c:\\\\Users\\\\brian\\\\Desktop\\\\PYUM\\\\P-YUM\\\\face_angles.jpg'"
      ]
     },
     "execution_count": 1,
     "metadata": {},
     "output_type": "execute_result"
    }
   ],
   "source": [
    "# getting image path\n",
    "# try with flowers.jpg as well (doesn't have any faces)\n",
    "current = %pwd\n",
    "from pathlib import Path\n",
    "path = Path(current)\n",
    "imagePath = str(path.parent.absolute())\n",
    "image_name = \"face_angles.jpg\"\n",
    "imagePath += '\\\\' + image_name\n",
    "imagePath"
   ]
  },
  {
   "cell_type": "code",
   "execution_count": 2,
   "metadata": {},
   "outputs": [],
   "source": [
    "cascPath = \"haarcascade_frontalface_default.xml\"\n",
    "cascPath_m = \"haarcascade_mouth.xml\"\n",
    "cascPath_e = \"haarcascade_eye.xml\""
   ]
  },
  {
   "cell_type": "code",
   "execution_count": 3,
   "metadata": {},
   "outputs": [],
   "source": [
    "import cv2"
   ]
  },
  {
   "cell_type": "code",
   "execution_count": 4,
   "metadata": {},
   "outputs": [],
   "source": [
    "# Create the haar cascade\n",
    "faceCascade = cv2.CascadeClassifier(cascPath)\n",
    "mouthCascade = cv2.CascadeClassifier(cascPath_m)\n",
    "eyeCascade = cv2.CascadeClassifier(cascPath_e)\n",
    "\n",
    "# Read the image\n",
    "image = cv2.imread(imagePath)\n",
    "gray = cv2.cvtColor(image, cv2.COLOR_BGR2GRAY)\n",
    "\n",
    "# Detect faces in the image\n",
    "faces = faceCascade.detectMultiScale(\n",
    "    gray,\n",
    "    scaleFactor=1.1,\n",
    "    minNeighbors=5,\n",
    "    minSize=(30, 30),\n",
    "    flags = cv2.CASCADE_SCALE_IMAGE\n",
    ")\n",
    "\n",
    "mouths = mouthCascade.detectMultiScale(\n",
    "    gray,\n",
    "    scaleFactor=1.1,\n",
    "    minNeighbors=5,\n",
    "    minSize=(30, 30),\n",
    "    flags = cv2.CASCADE_SCALE_IMAGE\n",
    ")\n",
    "\n",
    "eyes = eyeCascade.detectMultiScale(\n",
    "    gray,\n",
    "    scaleFactor=1.1,\n",
    "    minNeighbors=5,\n",
    "    minSize=(30, 30),\n",
    "    flags = cv2.CASCADE_SCALE_IMAGE\n",
    ")"
   ]
  },
  {
   "cell_type": "code",
   "execution_count": 20,
   "metadata": {},
   "outputs": [
    {
     "name": "stdout",
     "output_type": "stream",
     "text": [
      "Found 9 faces!\n",
      "Found 22 mouths!\n",
      "Found 13 eyes!\n"
     ]
    }
   ],
   "source": [
    "print (\"Found {0} faces!\".format(len(faces)))\n",
    "\n",
    "# Draw a rectangle around the faces\n",
    "for (x, y, w, h) in faces:\n",
    "    cv2.rectangle(image, (x, y), (x+w, y+h), (0, 255, 0), 2)\n",
    "\n",
    "print (\"Found {0} mouths!\".format(len(mouths)))\n",
    "\n",
    "# Draw a rectangle around the mouths\n",
    "for (x, y, w, h) in mouths:\n",
    "    cv2.rectangle(image, (x, y), (x+w, y+h), (255, 0, 0), 2)\n",
    "\n",
    "print (\"Found {0} eyes!\".format(len(eyes)))\n",
    "\n",
    "# Draw a rectangle around the eyes\n",
    "for (x, y, w, h) in eyes:\n",
    "    cv2.rectangle(image, (x, y), (x+w, y+h), (0, 0, 255), 2)"
   ]
  },
  {
   "cell_type": "code",
   "execution_count": 24,
   "metadata": {},
   "outputs": [],
   "source": [
    "# input two rectangles\n",
    "def temp_contains(R1, R2):\n",
    "\n",
    "    # recalculating the sides from (x1, y1, width, height)\n",
    "    # to (x1, y1, x2, y2)\n",
    "    R1X2 = R1[0] + R1[2]\n",
    "    R1Y2 = R1[1] + R1[3]\n",
    "    R2X2 = R2[0] + R2[2]\n",
    "    R2Y2 = R2[1] + R2[3]\n",
    "\n",
    "    new_x1 = min(R1[0], R2[0])\n",
    "    new_x2 = max(R1X2, R2X2) - new_x1 # width\n",
    "    new_y1 = min(R1[1], R2[1])\n",
    "    new_y2 = max(R1Y2, R2Y2) - new_y1 # height\n",
    "\n",
    "    New_rect = [new_x1, new_y1, new_x2, new_y2]\n",
    "\n",
    "    if (R1[0] >= R2X2) or (R1X2 <= R2[0]) or (R1Y2 <= R2[1]) or (R1[1] >= R2Y2):\n",
    "        # not valid. not contained!\n",
    "        return False, []\n",
    "    else:\n",
    "        # valid. contains\n",
    "        return True, New_rect\n"
   ]
  },
  {
   "cell_type": "code",
   "execution_count": 25,
   "metadata": {},
   "outputs": [],
   "source": [
    "for face in faces:\n",
    "    for mouth in mouths:\n",
    "        Valid, mesh_rect = temp_contains(face, mouth)\n",
    "        if Valid:\n",
    "            for eye in eyes:\n",
    "                second_Valid, new_mesh_rect = temp_contains(mesh_rect, eye)\n",
    "                if second_Valid:\n",
    "                    x = new_mesh_rect[0]\n",
    "                    y = new_mesh_rect[1]\n",
    "                    w = new_mesh_rect[2]\n",
    "                    h = new_mesh_rect[3]\n",
    "                    cv2.rectangle(image, (x, y), (x+w, y+h), (0, 0, 0), 2)\n",
    "\n",
    "                \n"
   ]
  },
  {
   "cell_type": "code",
   "execution_count": 26,
   "metadata": {},
   "outputs": [
    {
     "data": {
      "text/plain": [
       "-1"
      ]
     },
     "execution_count": 26,
     "metadata": {},
     "output_type": "execute_result"
    }
   ],
   "source": [
    "# runs reasonably well\n",
    "# notice how it doesn't really work on faces that are turned 90 degrees.\n",
    "\n",
    "cv2.imshow(\"Features found\", image)\n",
    "cv2.waitKey(0)\n"
   ]
  },
  {
   "cell_type": "markdown",
   "metadata": {},
   "source": [
    "# Face As A Percentage of the Video"
   ]
  },
  {
   "cell_type": "code",
   "execution_count": 42,
   "metadata": {},
   "outputs": [
    {
     "data": {
      "text/plain": [
       "\"c:\\\\Users\\\\brian\\\\Desktop\\\\PYUM\\\\P-YUM\\\\Binging with Babish_ Patrick's Briefcase from SpongeBob SquarePants.mp4\""
      ]
     },
     "execution_count": 42,
     "metadata": {},
     "output_type": "execute_result"
    }
   ],
   "source": [
    "# first, get the path of the video in question\n",
    "# getting video path\n",
    "current = %pwd\n",
    "from pathlib import Path\n",
    "path = Path(current)\n",
    "filename = str(path.parent.absolute())\n",
    "# video_name = \"American Grilled Cheese Vs. French Grilled Cheese.mp4\"\n",
    "video_name = \"Binging with Babish_ Patrick's Briefcase from SpongeBob SquarePants.mp4\"\n",
    "filename += '\\\\' + video_name\n",
    "filename"
   ]
  },
  {
   "cell_type": "code",
   "execution_count": 43,
   "metadata": {},
   "outputs": [],
   "source": [
    "import cv2\n",
    "import numpy as np"
   ]
  },
  {
   "cell_type": "code",
   "execution_count": 44,
   "metadata": {},
   "outputs": [],
   "source": [
    "# input two rectangles\n",
    "def contains(R1, R2):\n",
    "\n",
    "    # recalculating the sides from (x1, y1, width, height)\n",
    "    # to (x1, y1, x2, y2)\n",
    "    R1X2 = R1[0] + R1[2]\n",
    "    R1Y2 = R1[1] + R1[3]\n",
    "    R2X2 = R2[0] + R2[2]\n",
    "    R2Y2 = R2[1] + R2[3]\n",
    "\n",
    "    new_x1 = min(R1[0], R2[0])\n",
    "    new_x2 = max(R1X2, R2X2) - new_x1 # width\n",
    "    new_y1 = min(R1[1], R2[1])\n",
    "    new_y2 = max(R1Y2, R2Y2) - new_y1 # height\n",
    "\n",
    "    New_rect = [new_x1, new_y1, new_x2, new_y2]\n",
    "\n",
    "    if (R1[0] >= R2X2) or (R1X2 <= R2[0]) or (R1Y2 <= R2[1]) or (R1[1] >= R2Y2):\n",
    "        # not valid. not contained!\n",
    "        return False, []\n",
    "    else:\n",
    "        # valid. contains\n",
    "        return True, New_rect\n"
   ]
  },
  {
   "cell_type": "code",
   "execution_count": 45,
   "metadata": {},
   "outputs": [],
   "source": [
    "def face_detector(image):\n",
    "    \n",
    "    cascPath = \"haarcascade_frontalface_default.xml\"\n",
    "    cascPath_m = \"haarcascade_mouth.xml\"\n",
    "    cascPath_e = \"haarcascade_eye.xml\"\n",
    "\n",
    "    # Create the haar cascade\n",
    "    faceCascade = cv2.CascadeClassifier(cascPath)\n",
    "    mouthCascade = cv2.CascadeClassifier(cascPath_m)\n",
    "    eyeCascade = cv2.CascadeClassifier(cascPath_e)\n",
    "\n",
    "    # Read the image\n",
    "    # image = cv2.imread(image)\n",
    "    gray = cv2.cvtColor(image, cv2.COLOR_BGR2GRAY)\n",
    "\n",
    "    # Detect faces in the image\n",
    "    faces = faceCascade.detectMultiScale(\n",
    "        gray,\n",
    "        scaleFactor=1.3,\n",
    "        minNeighbors=5,\n",
    "        minSize=(30, 30),\n",
    "        flags=cv2.CASCADE_SCALE_IMAGE\n",
    "    )\n",
    "\n",
    "    # for (x, y, w, h) in faces:\n",
    "    #     cv2.rectangle(image, (x, y), (x+w, y+h), (0, 255, 0), 2)\n",
    "\n",
    "    # Detect mouths in image\n",
    "    mouths = mouthCascade.detectMultiScale(\n",
    "    gray,\n",
    "    scaleFactor=1.1,\n",
    "    minNeighbors=5,\n",
    "    minSize=(30, 30),\n",
    "    flags = cv2.CASCADE_SCALE_IMAGE\n",
    "    )\n",
    "\n",
    "    # for (x, y, w, h) in mouths:\n",
    "    #     cv2.rectangle(image, (x, y), (x+w, y+h), (255, 0, 0), 2)\n",
    "\n",
    "    # Detect eyes in image\n",
    "    eyes = eyeCascade.detectMultiScale(\n",
    "    gray,\n",
    "    scaleFactor=1.1,\n",
    "    minNeighbors=5,\n",
    "    minSize=(30, 30),\n",
    "    flags = cv2.CASCADE_SCALE_IMAGE\n",
    "    )\n",
    "\n",
    "    # for (x, y, w, h) in eyes:\n",
    "    #     cv2.rectangle(image, (x, y), (x+w, y+h), (0, 0, 255), 2)\n",
    "\n",
    "    # yuck. if you can make this faster, go ahead\n",
    "    # makes sure the face, mouth, and eye rectangles contain each other.\n",
    "    # This ensures a face\n",
    "    for face in faces:\n",
    "        for mouth in mouths:\n",
    "            Valid, mesh_rect = contains(face, mouth)\n",
    "            if Valid:\n",
    "                for eye in eyes:\n",
    "                    second_Valid, new_mesh_rect = contains(mesh_rect, eye)\n",
    "                    if second_Valid:\n",
    "                        return True\n",
    "                        # x = new_mesh_rect[0]\n",
    "                        # y = new_mesh_rect[1]\n",
    "                        # w = new_mesh_rect[2]\n",
    "                        # h = new_mesh_rect[3]\n",
    "                        # cv2.rectangle(image, (x, y), (x+w, y+h), (0, 0, 0), 2)\n",
    "\n",
    "\n",
    "    # if len(faces) >= 1:\n",
    "    #     cv2.imshow(\"Faces found\", image)\n",
    "    #     cv2.waitKey(0)\n",
    "\n",
    "    # if it detects at least one face, return true\n",
    "    # it doesn't have to be the host itself\n",
    "    # if len(faces) >= 1:\n",
    "    #     return True\n",
    "\n",
    "    return False\n"
   ]
  },
  {
   "cell_type": "code",
   "execution_count": 46,
   "metadata": {},
   "outputs": [],
   "source": [
    "# input: the video file\n",
    "# output: length of video file in seconds\n",
    "\n",
    "def find_video_length(video):\n",
    "\n",
    "    fps = video.get(cv2.CAP_PROP_FPS)\n",
    "    frame_count = video.get(cv2.CAP_PROP_FRAME_COUNT)\n",
    "\n",
    "    return frame_count / fps, fps\n"
   ]
  },
  {
   "cell_type": "code",
   "execution_count": 47,
   "metadata": {},
   "outputs": [],
   "source": [
    "def face_percentage(filename):\n",
    "\n",
    "    # person_counter counts number of frames person was in shot\n",
    "    person_counter = 0\n",
    "    # no_person_counter counts number of frames where person is not in shot\n",
    "    no_person_counter = 0\n",
    "\n",
    "    my_video = cv2.VideoCapture(filename)\n",
    "    if (my_video.isOpened() == False):\n",
    "        print(\"Error opening video stream or file\")\n",
    "\n",
    "    video_length, video_fps = find_video_length(my_video)\n",
    "\n",
    "    nth_frame = video_fps // 2\n",
    "    frame_counter = 0\n",
    "\n",
    "    while (my_video.isOpened()):\n",
    "        \n",
    "        ret, frame = my_video.read()\n",
    "        if frame_counter % nth_frame == 0:\n",
    "\n",
    "            # Capture frame-by-frame\n",
    "            if ret == True:\n",
    "                if face_detector(frame):\n",
    "\n",
    "                    print(frame_counter / video_fps)\n",
    "                    person_counter += 1\n",
    "                else:\n",
    "                    no_person_counter += 1\n",
    "            else:\n",
    "                break\n",
    "\n",
    "        if ret == False:\n",
    "            break\n",
    "\n",
    "        frame_counter += 1\n",
    "\n",
    "    return (person_counter * 100) / (no_person_counter + person_counter)\n",
    "\n",
    "\n"
   ]
  },
  {
   "cell_type": "code",
   "execution_count": 48,
   "metadata": {},
   "outputs": [
    {
     "data": {
      "text/plain": [
       "\"c:\\\\Users\\\\brian\\\\Desktop\\\\PYUM\\\\P-YUM\\\\Binging with Babish_ Patrick's Briefcase from SpongeBob SquarePants.mp4\""
      ]
     },
     "execution_count": 48,
     "metadata": {},
     "output_type": "execute_result"
    }
   ],
   "source": [
    "filename"
   ]
  },
  {
   "cell_type": "code",
   "execution_count": 49,
   "metadata": {},
   "outputs": [
    {
     "name": "stdout",
     "output_type": "stream",
     "text": [
      "117.90945833333332\n"
     ]
    },
    {
     "data": {
      "text/plain": [
       "0.14641288433382138"
      ]
     },
     "execution_count": 49,
     "metadata": {},
     "output_type": "execute_result"
    }
   ],
   "source": [
    "face_percentage(filename)"
   ]
  },
  {
   "cell_type": "code",
   "execution_count": null,
   "metadata": {},
   "outputs": [],
   "source": []
  },
  {
   "cell_type": "code",
   "execution_count": null,
   "metadata": {},
   "outputs": [],
   "source": []
  },
  {
   "cell_type": "code",
   "execution_count": null,
   "metadata": {},
   "outputs": [],
   "source": []
  }
 ],
 "metadata": {
  "kernelspec": {
   "display_name": "Python 3.10.5 64-bit",
   "language": "python",
   "name": "python3"
  },
  "language_info": {
   "codemirror_mode": {
    "name": "ipython",
    "version": 3
   },
   "file_extension": ".py",
   "mimetype": "text/x-python",
   "name": "python",
   "nbconvert_exporter": "python",
   "pygments_lexer": "ipython3",
   "version": "3.10.5"
  },
  "orig_nbformat": 4,
  "vscode": {
   "interpreter": {
    "hash": "51923b56f38a5b3424ee861e1200c08869906ff2215aafed0340f54392de6f99"
   }
  }
 },
 "nbformat": 4,
 "nbformat_minor": 2
}
