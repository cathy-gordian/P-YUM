{
 "cells": [
  {
   "cell_type": "code",
   "execution_count": 1,
   "metadata": {},
   "outputs": [
    {
     "data": {
      "text/plain": [
       "\"c:\\\\Users\\\\brian\\\\Desktop\\\\PYUM\\\\P-YUM\\\\Binging with Babish_ Patrick's Briefcase from SpongeBob SquarePants.mp4\""
      ]
     },
     "execution_count": 1,
     "metadata": {},
     "output_type": "execute_result"
    }
   ],
   "source": [
    "# getting video path\n",
    "current = %pwd\n",
    "from pathlib import Path\n",
    "path = Path(current)\n",
    "filename = str(path.parent.absolute())\n",
    "video_name = \"Binging with Babish_ Patrick's Briefcase from SpongeBob SquarePants.mp4\"\n",
    "filename += '\\\\' + video_name\n",
    "filename\n"
   ]
  },
  {
   "cell_type": "code",
   "execution_count": 2,
   "metadata": {},
   "outputs": [
    {
     "data": {
      "text/plain": [
       "313.06275"
      ]
     },
     "execution_count": 2,
     "metadata": {},
     "output_type": "execute_result"
    }
   ],
   "source": [
    "import cv2\n",
    "\n",
    "# finds the length of video in seconds\n",
    "def find_video_length(filename):\n",
    "\n",
    "    video = cv2.VideoCapture(filename)\n",
    "\n",
    "    fps = video.get(cv2.CAP_PROP_FPS)\n",
    "    frame_count = video.get(cv2.CAP_PROP_FRAME_COUNT)\n",
    "\n",
    "    return frame_count / fps\n",
    "\n",
    "vid_length = find_video_length(filename)\n",
    "vid_length\n"
   ]
  },
  {
   "cell_type": "markdown",
   "metadata": {},
   "source": []
  },
  {
   "cell_type": "code",
   "execution_count": 3,
   "metadata": {},
   "outputs": [],
   "source": [
    "# pip install scenedetect[opencv] --upgrade\n",
    "from scenedetect import detect, ContentDetector\n",
    "\n",
    "# ContentDetector: performs content-aware scene detection on a video\n",
    "# returns a list of the start/end times of \"scenes\". \n",
    "scene_list = detect(filename, ContentDetector())\n"
   ]
  },
  {
   "cell_type": "code",
   "execution_count": 4,
   "metadata": {},
   "outputs": [
    {
     "data": {
      "text/plain": [
       "[0.0,\n",
       " 8.0,\n",
       " 11.0,\n",
       " 13.0,\n",
       " 15.0,\n",
       " 52.0,\n",
       " 54.0,\n",
       " 56.0,\n",
       " 57.0,\n",
       " 57.0,\n",
       " 58.0,\n",
       " 59.0,\n",
       " 59.0,\n",
       " 66.0,\n",
       " 68.0,\n",
       " 93.0,\n",
       " 95.0,\n",
       " 106.0,\n",
       " 109.0,\n",
       " 113.0,\n",
       " 116.0,\n",
       " 118.0,\n",
       " 119.0,\n",
       " 119.0,\n",
       " 125.0,\n",
       " 127.0,\n",
       " 129.0,\n",
       " 131.0,\n",
       " 132.0,\n",
       " 133.0,\n",
       " 139.0,\n",
       " 139.0,\n",
       " 141.0,\n",
       " 142.0,\n",
       " 145.0,\n",
       " 146.0,\n",
       " 148.0,\n",
       " 149.0,\n",
       " 152.0,\n",
       " 155.0,\n",
       " 156.0,\n",
       " 157.0,\n",
       " 158.0,\n",
       " 166.0,\n",
       " 167.0,\n",
       " 168.0,\n",
       " 169.0,\n",
       " 171.0,\n",
       " 173.0,\n",
       " 175.0,\n",
       " 176.0,\n",
       " 176.0,\n",
       " 177.0,\n",
       " 178.0,\n",
       " 178.0,\n",
       " 181.0,\n",
       " 184.0,\n",
       " 186.0,\n",
       " 191.0,\n",
       " 193.0,\n",
       " 195.0,\n",
       " 196.0,\n",
       " 198.0,\n",
       " 200.0,\n",
       " 202.0,\n",
       " 205.0,\n",
       " 206.0,\n",
       " 208.0,\n",
       " 209.0,\n",
       " 210.0,\n",
       " 211.0,\n",
       " 211.0,\n",
       " 213.0,\n",
       " 215.0,\n",
       " 218.0,\n",
       " 219.0,\n",
       " 221.0,\n",
       " 221.0,\n",
       " 222.0,\n",
       " 223.0,\n",
       " 224.0,\n",
       " 224.0,\n",
       " 225.0,\n",
       " 226.0,\n",
       " 226.0,\n",
       " 227.0,\n",
       " 228.0,\n",
       " 229.0,\n",
       " 229.0,\n",
       " 230.0,\n",
       " 234.0,\n",
       " 235.0,\n",
       " 236.0,\n",
       " 239.0,\n",
       " 241.0,\n",
       " 257.0,\n",
       " 260.0,\n",
       " 264.0,\n",
       " 274.0,\n",
       " 279.0,\n",
       " 283.0]"
      ]
     },
     "execution_count": 4,
     "metadata": {},
     "output_type": "execute_result"
    }
   ],
   "source": [
    "import datetime\n",
    "import time\n",
    "\n",
    "cuts_in_seconds = []\n",
    "\n",
    "for scene in scene_list:\n",
    "    # print(str(scene[0])[:-4])\n",
    "    x = time.strptime(str(scene[0])[:-4],'%H:%M:%S')\n",
    "    cuts_in_seconds.append(datetime.timedelta(hours=x.tm_hour,minutes=x.tm_min,seconds=x.tm_sec).total_seconds())\n",
    "\n",
    "(cuts_in_seconds)"
   ]
  },
  {
   "cell_type": "code",
   "execution_count": 5,
   "metadata": {},
   "outputs": [
    {
     "name": "stdout",
     "output_type": "stream",
     "text": [
      "101\n",
      "There are 0.3226190276549989 cuts per second\n"
     ]
    }
   ],
   "source": [
    "# number of cuts\n",
    "print(len(scene_list))\n",
    "\n",
    "# cuts per second\n",
    "print(f'There are {len(scene_list) / vid_length} cuts per second')"
   ]
  },
  {
   "cell_type": "code",
   "execution_count": 6,
   "metadata": {},
   "outputs": [],
   "source": [
    "def cluster_by_seconds(cuts_in_seconds, cluster_time):\n",
    "    time_segments = int(cuts_in_seconds[-1] // cluster_time + 1)\n",
    "    cluster_array = [0] * time_segments\n",
    "    print(time_segments)\n",
    "    for time in cuts_in_seconds:\n",
    "        cluster_array[int(time // cluster_time)] += 1\n",
    "    return cluster_array\n",
    "\n"
   ]
  },
  {
   "cell_type": "code",
   "execution_count": 19,
   "metadata": {},
   "outputs": [
    {
     "name": "stdout",
     "output_type": "stream",
     "text": [
      "29\n"
     ]
    },
    {
     "data": {
      "image/png": "[encoded data removed]",
      "text/plain": [
       "<Figure size 1080x360 with 1 Axes>"
      ]
     },
     "metadata": {
      "needs_background": "light"
     },
     "output_type": "display_data"
    }
   ],
   "source": [
    "import matplotlib.pyplot as plt\n",
    "\n",
    "cluster_time = 10\n",
    "ten_sec_cluster = cluster_by_seconds(cuts_in_seconds, cluster_time)\n",
    "\n",
    "time_intervals = []\n",
    "for i in range(len(ten_sec_cluster)):\n",
    "    time_intervals.append(f\"{i * cluster_time}-{i * cluster_time + cluster_time}\")\n",
    "  \n",
    "f = plt.figure()\n",
    "f.set_figwidth(15)\n",
    "f.set_figheight(5)\n",
    "\n",
    "plt.ylabel(\"Number of cuts\")\n",
    "plt.xlabel(\"Time interval of video (in seconds)\")\n",
    "plt.title(\"The number of cuts per time interval\")\n",
    "plt.xticks(rotation = 30)\n",
    "\n",
    "\n",
    "plt.bar(time_intervals, ten_sec_cluster)\n",
    "plt.show()"
   ]
  },
  {
   "cell_type": "code",
   "execution_count": 11,
   "metadata": {},
   "outputs": [
    {
     "name": "stdout",
     "output_type": "stream",
     "text": [
      "29\n"
     ]
    },
    {
     "data": {
      "image/png": "[encoded data removed]",
      "text/plain": [
       "<Figure size 432x288 with 1 Axes>"
      ]
     },
     "metadata": {
      "needs_background": "light"
     },
     "output_type": "display_data"
    }
   ],
   "source": [
    "import matplotlib.pyplot as plt\n",
    "\n",
    "cluster_time = 10\n",
    "ten_sec_cluster = cluster_by_seconds(cuts_in_seconds, cluster_time)\n",
    "\n",
    "fig = plt.figure()\n",
    "ax = fig.add_axes([0,0,3,1])\n",
    "time_intervals = []\n",
    "for i in range(len(ten_sec_cluster)):\n",
    "    time_intervals.append(f\"{i * cluster_time}-{i * cluster_time + cluster_time} sec\")\n",
    "ax.bar(time_intervals,ten_sec_cluster)\n",
    "ax.tick_params(axis='x', labelrotation = 45)\n",
    "\n",
    "plt.ylabel(\"Number of cuts\")\n",
    "plt.xlabel(\"Time interval of video (in seconds\")\n",
    "plt.title(\"The number of cuts per time interval\")\n",
    "\n",
    "plt.show()"
   ]
  },
  {
   "cell_type": "code",
   "execution_count": null,
   "metadata": {},
   "outputs": [],
   "source": []
  }
 ],
 "metadata": {
  "kernelspec": {
   "display_name": "Python 3.10.5 64-bit",
   "language": "python",
   "name": "python3"
  },
  "language_info": {
   "codemirror_mode": {
    "name": "ipython",
    "version": 3
   },
   "file_extension": ".py",
   "mimetype": "text/x-python",
   "name": "python",
   "nbconvert_exporter": "python",
   "pygments_lexer": "ipython3",
   "version": "3.10.5"
  },
  "orig_nbformat": 4,
  "vscode": {
   "interpreter": {
    "hash": "51923b56f38a5b3424ee861e1200c08869906ff2215aafed0340f54392de6f99"
   }
  }
 },
 "nbformat": 4,
 "nbformat_minor": 2
}
