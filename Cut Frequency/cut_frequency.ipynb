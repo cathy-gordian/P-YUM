{
 "cells": [
  {
   "cell_type": "code",
   "execution_count": 29,
   "metadata": {},
   "outputs": [
    {
     "data": {
      "text/plain": [
       "\"c:\\\\Users\\\\brian\\\\Desktop\\\\PYUM\\\\Speech Recognition\\\\P-YUM\\\\Binging with Babish_ Patrick's Briefcase from SpongeBob SquarePants.mp4\""
      ]
     },
     "execution_count": 29,
     "metadata": {},
     "output_type": "execute_result"
    }
   ],
   "source": [
    "# getting video path\n",
    "current = %pwd\n",
    "from pathlib import Path\n",
    "path = Path(current)\n",
    "filename = str(path.parent.absolute())\n",
    "video_name = \"Binging with Babish_ Patrick's Briefcase from SpongeBob SquarePants.mp4\"\n",
    "filename += '\\\\' + video_name\n",
    "filename\n"
   ]
  },
  {
   "cell_type": "code",
   "execution_count": 30,
   "metadata": {},
   "outputs": [
    {
     "data": {
      "text/plain": [
       "313.06275"
      ]
     },
     "execution_count": 30,
     "metadata": {},
     "output_type": "execute_result"
    }
   ],
   "source": [
    "import cv2\n",
    "\n",
    "# finds the length of video in seconds\n",
    "def find_video_length(filename):\n",
    "\n",
    "    video = cv2.VideoCapture(filename)\n",
    "\n",
    "    fps = video.get(cv2.CAP_PROP_FPS)\n",
    "    frame_count = video.get(cv2.CAP_PROP_FRAME_COUNT)\n",
    "\n",
    "    return frame_count / fps\n",
    "\n",
    "vid_length = find_video_length(filename)\n",
    "vid_length\n"
   ]
  },
  {
   "cell_type": "code",
   "execution_count": 31,
   "metadata": {},
   "outputs": [],
   "source": [
    "# pip install scenedetect[opencv] --upgrade\n",
    "from scenedetect import detect, ContentDetector\n",
    "\n",
    "# ContentDetector: performs content-aware scene detection on a video\n",
    "# returns a list of the start/end times of \"scenes\". \n",
    "scene_list = detect(filename, ContentDetector())\n"
   ]
  },
  {
   "cell_type": "code",
   "execution_count": 32,
   "metadata": {},
   "outputs": [
    {
     "data": {
      "text/plain": [
       "101"
      ]
     },
     "execution_count": 32,
     "metadata": {},
     "output_type": "execute_result"
    }
   ],
   "source": [
    "# number of cuts\n",
    "len(scene_list)"
   ]
  },
  {
   "cell_type": "code",
   "execution_count": 33,
   "metadata": {},
   "outputs": [
    {
     "name": "stdout",
     "output_type": "stream",
     "text": [
      "There are 0.3226190276549989 cuts per second\n"
     ]
    }
   ],
   "source": [
    "# cuts per second\n",
    "print(f'There are {len(scene_list) / vid_length} cuts per second')"
   ]
  },
  {
   "cell_type": "code",
   "execution_count": null,
   "metadata": {},
   "outputs": [],
   "source": []
  }
 ],
 "metadata": {
  "kernelspec": {
   "display_name": "Python 3.10.5 64-bit",
   "language": "python",
   "name": "python3"
  },
  "language_info": {
   "codemirror_mode": {
    "name": "ipython",
    "version": 3
   },
   "file_extension": ".py",
   "mimetype": "text/x-python",
   "name": "python",
   "nbconvert_exporter": "python",
   "pygments_lexer": "ipython3",
   "version": "3.10.5"
  },
  "orig_nbformat": 4,
  "vscode": {
   "interpreter": {
    "hash": "51923b56f38a5b3424ee861e1200c08869906ff2215aafed0340f54392de6f99"
   }
  }
 },
 "nbformat": 4,
 "nbformat_minor": 2
}
